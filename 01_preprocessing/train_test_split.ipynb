{
 "cells": [
  {
   "cell_type": "markdown",
   "metadata": {},
   "source": [
    "### 1 Import relevant libraries"
   ]
  },
  {
   "cell_type": "code",
   "execution_count": 15,
   "metadata": {},
   "outputs": [],
   "source": [
    "# import relevant libraries\n",
    "import os # for file handling\n",
    "import glob # for file handling\n",
    "import csv # for reading the csv file\n",
    "import numpy as np # for data manipulation\n",
    "import pandas as pd # for data manipulation\n",
    "import random # for shuffling the data and seed setting\n",
    "import cv2 # read and save images\n",
    "import imageio # read and save images (for gif format)\n",
    "from tqdm import tqdm # for progress bar"
   ]
  },
  {
   "cell_type": "markdown",
   "metadata": {},
   "source": [
    "### 2 Define relevant variables and paths"
   ]
  },
  {
   "cell_type": "code",
   "execution_count": 16,
   "metadata": {},
   "outputs": [],
   "source": [
    "# ID starts from 0 and goes up by one for each pair of image and mask\n",
    "index = 1\n",
    "\n",
    "# empty list to store the following information of each dataset:\n",
    "# dataset name, file name image, file name mask, unique ID\n",
    "data_list = []\n",
    "\n",
    "# define dataset path\n",
    "dataset_path = 'c:/Users/yileh/OneDrive/msc_data_science/master_thesis/datasets_raw'\n",
    "\n",
    "# define target path for gray images\n",
    "target_path_gray = 'c:/Users/yileh/OneDrive/msc_data_science/master_thesis/dataset_gray'\n",
    "\n",
    "# define target path for RGB images\n",
    "target_path_rgb = 'c:/Users/yileh/OneDrive/msc_data_science/master_thesis/dataset_rgb'"
   ]
  },
  {
   "cell_type": "markdown",
   "metadata": {},
   "source": [
    "### 3 Create relevant folders (training, validation, and testing)"
   ]
  },
  {
   "cell_type": "code",
   "execution_count": 17,
   "metadata": {},
   "outputs": [],
   "source": [
    "# function that creates folders if it does not exist\n",
    "def create_folder(folder_path):\n",
    "    '''\n",
    "    Create folder if it does not exist.\n",
    "    \n",
    "    Args: \n",
    "        folder_path (str): Path of the folder to be created\n",
    "    \n",
    "    Returns: \n",
    "        None\n",
    "    '''\n",
    "    if not os.path.exists(folder_path):\n",
    "        os.makedirs(folder_path)"
   ]
  },
  {
   "cell_type": "code",
   "execution_count": 18,
   "metadata": {},
   "outputs": [],
   "source": [
    "# create training folder with images and masks subfolders for gray images\n",
    "create_folder(os.path.join(target_path_gray, 'training/images'))\n",
    "create_folder(os.path.join(target_path_gray, 'training/masks'))\n",
    "\n",
    "# create validation folder with images and masks subfolders for gray images\n",
    "create_folder(os.path.join(target_path_gray, 'validation/images'))\n",
    "create_folder(os.path.join(target_path_gray, 'validation/masks'))\n",
    "\n",
    "# create testing folder with images and masks subfolders for gray images\n",
    "create_folder(os.path.join(target_path_gray, 'testing/images'))\n",
    "create_folder(os.path.join(target_path_gray, 'testing/masks'))"
   ]
  },
  {
   "cell_type": "code",
   "execution_count": 19,
   "metadata": {},
   "outputs": [],
   "source": [
    "# create training folder with images and masks subfolders for RGB images\n",
    "create_folder(os.path.join(target_path_rgb, 'training/images'))\n",
    "create_folder(os.path.join(target_path_rgb, 'training/masks'))\n",
    "\n",
    "# create validation folder with images and masks subfolders for RGB images\n",
    "create_folder(os.path.join(target_path_rgb, 'validation/images'))\n",
    "create_folder(os.path.join(target_path_rgb, 'validation/masks'))\n",
    "\n",
    "# create testing folder with images and masks subfolders for RGB images\n",
    "create_folder(os.path.join(target_path_rgb, 'testing/images'))\n",
    "create_folder(os.path.join(target_path_rgb, 'testing/masks'))"
   ]
  },
  {
   "cell_type": "markdown",
   "metadata": {},
   "source": [
    "### 4 Fill the folders with images and masks"
   ]
  },
  {
   "cell_type": "markdown",
   "metadata": {},
   "source": [
    "##### 4.1 Read in dataframe"
   ]
  },
  {
   "cell_type": "code",
   "execution_count": 20,
   "metadata": {},
   "outputs": [],
   "source": [
    "# read in the csv file containing the dataset information as dataframe\n",
    "df = pd.read_csv('c:/Users/yileh/OneDrive/msc_data_science/master_thesis/dataset_indexing.csv', index_col=None, dtype={'ID': str})"
   ]
  },
  {
   "cell_type": "code",
   "execution_count": 21,
   "metadata": {},
   "outputs": [
    {
     "data": {
      "text/html": [
       "<div>\n",
       "<style scoped>\n",
       "    .dataframe tbody tr th:only-of-type {\n",
       "        vertical-align: middle;\n",
       "    }\n",
       "\n",
       "    .dataframe tbody tr th {\n",
       "        vertical-align: top;\n",
       "    }\n",
       "\n",
       "    .dataframe thead th {\n",
       "        text-align: right;\n",
       "    }\n",
       "</style>\n",
       "<table border=\"1\" class=\"dataframe\">\n",
       "  <thead>\n",
       "    <tr style=\"text-align: right;\">\n",
       "      <th></th>\n",
       "      <th>dataset_name</th>\n",
       "      <th>file_name_image</th>\n",
       "      <th>file_name_mask</th>\n",
       "      <th>ID</th>\n",
       "    </tr>\n",
       "  </thead>\n",
       "  <tbody>\n",
       "    <tr>\n",
       "      <th>0</th>\n",
       "      <td>CHASEDB1</td>\n",
       "      <td>Image_01L.jpg</td>\n",
       "      <td>Image_01L_1stHO.png</td>\n",
       "      <td>001</td>\n",
       "    </tr>\n",
       "    <tr>\n",
       "      <th>1</th>\n",
       "      <td>CHASEDB1</td>\n",
       "      <td>Image_01R.jpg</td>\n",
       "      <td>Image_01R_1stHO.png</td>\n",
       "      <td>002</td>\n",
       "    </tr>\n",
       "    <tr>\n",
       "      <th>2</th>\n",
       "      <td>CHASEDB1</td>\n",
       "      <td>Image_02L.jpg</td>\n",
       "      <td>Image_02L_1stHO.png</td>\n",
       "      <td>003</td>\n",
       "    </tr>\n",
       "    <tr>\n",
       "      <th>3</th>\n",
       "      <td>CHASEDB1</td>\n",
       "      <td>Image_02R.jpg</td>\n",
       "      <td>Image_02R_1stHO.png</td>\n",
       "      <td>004</td>\n",
       "    </tr>\n",
       "    <tr>\n",
       "      <th>4</th>\n",
       "      <td>CHASEDB1</td>\n",
       "      <td>Image_03L.jpg</td>\n",
       "      <td>Image_03L_1stHO.png</td>\n",
       "      <td>005</td>\n",
       "    </tr>\n",
       "  </tbody>\n",
       "</table>\n",
       "</div>"
      ],
      "text/plain": [
       "  dataset_name file_name_image       file_name_mask   ID\n",
       "0     CHASEDB1   Image_01L.jpg  Image_01L_1stHO.png  001\n",
       "1     CHASEDB1   Image_01R.jpg  Image_01R_1stHO.png  002\n",
       "2     CHASEDB1   Image_02L.jpg  Image_02L_1stHO.png  003\n",
       "3     CHASEDB1   Image_02R.jpg  Image_02R_1stHO.png  004\n",
       "4     CHASEDB1   Image_03L.jpg  Image_03L_1stHO.png  005"
      ]
     },
     "execution_count": 21,
     "metadata": {},
     "output_type": "execute_result"
    }
   ],
   "source": [
    "# inspect the first few rows of the dataframe\n",
    "df.head()"
   ]
  },
  {
   "cell_type": "markdown",
   "metadata": {},
   "source": [
    "##### 4.2 Get all IDs and shuffle them"
   ]
  },
  {
   "cell_type": "code",
   "execution_count": 22,
   "metadata": {},
   "outputs": [],
   "source": [
    "# set seed for reproducibility\n",
    "random.seed(42)\n",
    "\n",
    "# get all IDs as a list\n",
    "image_ids = list(df['ID'])\n",
    "\n",
    "# shuffle the IDs\n",
    "random.shuffle(image_ids)"
   ]
  },
  {
   "cell_type": "code",
   "execution_count": 23,
   "metadata": {},
   "outputs": [
    {
     "name": "stdout",
     "output_type": "stream",
     "text": [
      "The amount of total images and masks is: 781\n",
      "The amount of training images and masks is: 625\n",
      "The amount of validation images and masks is: 78\n",
      "The amount of testing images and masks is: 78\n"
     ]
    }
   ],
   "source": [
    "# check how many images and masks are in the dataset\n",
    "total_size = len(image_ids)\n",
    "print(f'The amount of total images and masks is: {total_size}')\n",
    "\n",
    "# check how many images and masks are in the training dataset\n",
    "train_size = int(0.8 * len(image_ids))+1\n",
    "print(f'The amount of training images and masks is: {train_size}')\n",
    "# check how many images and masks are in the validation dataset\n",
    "val_size = int(0.1 * len(image_ids))\n",
    "print(f'The amount of validation images and masks is: {val_size}')\n",
    "# check how many images and masks are in the testing dataset\n",
    "test_size = int(0.1 * len(image_ids))\n",
    "print(f'The amount of testing images and masks is: {test_size}')"
   ]
  },
  {
   "cell_type": "code",
   "execution_count": 24,
   "metadata": {},
   "outputs": [
    {
     "name": "stdout",
     "output_type": "stream",
     "text": [
      "The sum of training, validation, and testing set is equal to the amount of total images and masks!\n"
     ]
    }
   ],
   "source": [
    "# check if the sum of the training, validation and testing datasets is equal to the total amount of images and masks\n",
    "if train_size + val_size + test_size == total_size:\n",
    "    print('The sum of training, validation, and testing set is equal to the amount of total images and masks!')\n",
    "else:\n",
    "    print('The sum of training, validation, and testing set is not equal to the amount of total images and masks!')"
   ]
  },
  {
   "cell_type": "markdown",
   "metadata": {},
   "source": [
    "##### 4.3 Add images and masks to the relevant folders after applying preprocessing"
   ]
  },
  {
   "cell_type": "code",
   "execution_count": 25,
   "metadata": {},
   "outputs": [],
   "source": [
    "# create training, validation, and testing datasets\n",
    "train_ids = image_ids[:train_size]\n",
    "val_ids = image_ids[train_size:train_size+val_size]\n",
    "test_ids = image_ids[train_size+val_size:]"
   ]
  },
  {
   "cell_type": "code",
   "execution_count": 26,
   "metadata": {},
   "outputs": [],
   "source": [
    "# save parameters for preprocessing\n",
    "\n",
    "# new image size\n",
    "height = 1024\n",
    "width = 1024\n",
    "\n",
    "# for contrast-limited adaptive histogram equalization (CLAHE)\n",
    "clahe_value = cv2.createCLAHE(clipLimit=2.0, tileGridSize=(8,8))\n",
    "\n",
    "# for gamma correction\n",
    "gamma_value = 1.2\n",
    "\n",
    "# some images of the FIVES dataset have top-left a white Chinese sign (needs to be removed so that contrast increases afer normalization)\n",
    "# for specification of Chinese sign that needs to be blacked\n",
    "x_start, y_start, x_end, y_end = 0, 0, 150, 150"
   ]
  },
  {
   "cell_type": "code",
   "execution_count": 27,
   "metadata": {},
   "outputs": [],
   "source": [
    "# create function to copy images and masks to the target path\n",
    "def copy_images_and_masks_to_target_path(image_ids:list[str], \n",
    "                                         source_dataset_path:str, \n",
    "                                         target_dataset_path:str,\n",
    "                                         split:str, \n",
    "                                         resize:bool=False, \n",
    "                                         width:int=1024, \n",
    "                                         height:int=1024,\n",
    "                                         target_channel:str='RGB', \n",
    "                                         preprocessing:bool=False):\n",
    "    '''\n",
    "    Copy images and masks from the source dataset path to the target dataset path with optional resizing and preprocessing.\n",
    "    \n",
    "    It is necessary to specify which split the images and masks belong to. The split can be 'training', 'validation', or 'testing'. \n",
    "    \n",
    "    Resizing is optional and can be specified with the width and height parameters. The default size is 1024x1024.\n",
    "    \n",
    "    If preprocessing is used the parameters for CLAHE (Contrast-Limited Adaptive Histogram Equalization) and gamma correction have to be specified before using the function. \n",
    "    The preprocessing has the following steps:\n",
    "        1. Image graying\n",
    "        2. Image normalization (min=0, max=255)\n",
    "        3. CLAHE\n",
    "        4. Gamma correction\n",
    "    If the target channel is set to 'RGB' the images are not converted to grayscale and image normalization is skipped as colors are highly distorted after.\n",
    "    \n",
    "    Args:\n",
    "        image_ids (list[str]): List of uniqe image IDs which are copied into target folders.\n",
    "        source_dataset_path (str): Path to the source dataset.\n",
    "        target_dataset_path (str): Path to the target dataset.\n",
    "        split (str): Indicates the dataset split (either 'training', 'validation', 'testing').\n",
    "        resize (bool): Whether to resize images and masks.\n",
    "        width (int): Target width for resizing.\n",
    "        height (int): Target height for resizing.\n",
    "        target_channel (str): If image should be left as RGB or converted to grayscale (either 'RGB' or 'GRAY').\n",
    "        preprocessing (bool): Whether to apply preprocessing steps.\n",
    "    \n",
    "    Returns:\n",
    "        None\n",
    "    '''\n",
    "    \n",
    "    # check if split parameter is valid\n",
    "    if split not in ['training', 'validation', 'testing']:\n",
    "        raise ValueError(\"Invalid value for 'split' parameter. Allowed values are 'training', 'validation', or 'testing'.\")\n",
    "    \n",
    "    # check if target_channel parameter is valid\n",
    "    if target_channel not in ['RGB', 'GRAY']:\n",
    "        raise ValueError(\"Invalid value for 'target_channel' parameter. Allowed values are 'RGB' or 'GRAY'.\")\n",
    "    \n",
    "    # copy images and masks to the corresponding folders\n",
    "    for unique_id in tqdm(image_ids):\n",
    "        \n",
    "        # get the image and mask file name and its dataset name\n",
    "        image_file = df[df['ID'] == unique_id]['file_name_image'].values[0]\n",
    "        mask_file = df[df['ID'] == unique_id]['file_name_mask'].values[0]\n",
    "        dataset_name = df[df['ID'] == unique_id]['dataset_name'].values[0]\n",
    "        \n",
    "        # for image\n",
    "        # read image\n",
    "        image = cv2.imread(os.path.join(source_dataset_path, dataset_name, 'images', image_file))\n",
    "        \n",
    "        # resizing part\n",
    "        if resize==True:\n",
    "            # resize image\n",
    "            image = cv2.resize(image, (width, height))\n",
    "        \n",
    "        # target channel\n",
    "        if target_channel=='GRAY':\n",
    "            # preprocessing part\n",
    "            if preprocessing==True:\n",
    "                # image graying\n",
    "                image = cv2.cvtColor(image, cv2.COLOR_BGR2GRAY)\n",
    "                \n",
    "                # image normalization (min=0, max=255)\n",
    "                # if from FIVES dataset, convert the Chinese sign on the top-left to black pixels\n",
    "                # as these pixels are white (value=255), removing the Chinese increases the contrast after normalization\n",
    "                if df[df['ID'] == unique_id]['dataset_name'].values[0] == 'FIVES':\n",
    "                    image[y_start:y_end, x_start:x_end] = 0\n",
    "                image = cv2.normalize(image, None, alpha=0, beta=255, norm_type=cv2.NORM_MINMAX)\n",
    "                \n",
    "                # use contrast-limited adaptive histogram equalization (CLAHE)\n",
    "                image = clahe_value.apply(image)\n",
    "                \n",
    "                # use gamma correction\n",
    "                image = np.array(255*(image / 255) ** gamma_value, dtype='uint8')\n",
    "        \n",
    "        # target channel\n",
    "        if target_channel=='RGB':\n",
    "            # preprocessing part\n",
    "            if preprocessing==True:     \n",
    "                # use image normalization (min=0, max=255) (apply on L channel of LAB color space)           \n",
    "                # use contrast-limited adaptive histogram equalization (CLAHE) (apply on L channel of LAB color space)\n",
    "                # convert image to LAB color space\n",
    "                lab_image = cv2.cvtColor(image, cv2.COLOR_BGR2LAB)\n",
    "                # split the LAB image into channels\n",
    "                l_channel, a_channel, b_channel = cv2.split(lab_image)\n",
    "                # apply image normalization to the L channel (min=0, max=255)\n",
    "                l_channel = cv2.normalize(l_channel, None, alpha=0, beta=255, norm_type=cv2.NORM_MINMAX)\n",
    "                # apply CLAHE to the L channel\n",
    "                l_channel = clahe_value.apply(l_channel)\n",
    "                # apply gamma correction to the L channel\n",
    "                l_channel = np.uint8(((l_channel / 255.0) ** gamma_value) * 255)\n",
    "                \n",
    "                # merge L channel with original A and B channels\n",
    "                lab_image = cv2.merge((l_channel, a_channel, b_channel))\n",
    "                # convert LAB image back to RGB color space\n",
    "                image = cv2.cvtColor(lab_image, cv2.COLOR_LAB2BGR)\n",
    "            \n",
    "        # save in target directory as jpg\n",
    "        cv2.imwrite(os.path.join(target_dataset_path, split, 'images', f'{unique_id}.jpg'), image)\n",
    "        \n",
    "        # for mask\n",
    "        # read mask\n",
    "        if mask_file.endswith('.gif'): # if mask is in gif format\n",
    "            mask = imageio.mimread(os.path.join(dataset_path, dataset_name, 'masks', mask_file))[0]\n",
    "        else: \n",
    "            mask = cv2.imread(os.path.join(dataset_path, dataset_name, 'masks', mask_file), cv2.IMREAD_GRAYSCALE)\n",
    "        \n",
    "        # resizing part\n",
    "        if resize==True:\n",
    "            # resize mask\n",
    "            mask = cv2.resize(mask, (width, height))\n",
    "        \n",
    "        # save in target directory as jpg\n",
    "        cv2.imwrite(os.path.join(target_dataset_path, split, 'masks', f'{unique_id}.jpg'), mask)"
   ]
  },
  {
   "cell_type": "code",
   "execution_count": 28,
   "metadata": {},
   "outputs": [
    {
     "name": "stderr",
     "output_type": "stream",
     "text": [
      "100%|██████████| 625/625 [02:20<00:00,  4.44it/s]\n"
     ]
    }
   ],
   "source": [
    "# apply the function to the training dataset (rgb images)\n",
    "copy_images_and_masks_to_target_path(train_ids, dataset_path, target_path_rgb, 'training', resize=True, width=width, height=height, target_channel='RGB', preprocessing=True)"
   ]
  },
  {
   "cell_type": "code",
   "execution_count": 29,
   "metadata": {},
   "outputs": [
    {
     "name": "stderr",
     "output_type": "stream",
     "text": [
      "100%|██████████| 78/78 [00:25<00:00,  3.01it/s]\n"
     ]
    }
   ],
   "source": [
    "# apply the function to the validation dataset (rgb images)\n",
    "copy_images_and_masks_to_target_path(val_ids, dataset_path, target_path_rgb, 'validation', resize=True, width=width, height=height, target_channel='RGB', preprocessing=True)"
   ]
  },
  {
   "cell_type": "code",
   "execution_count": 30,
   "metadata": {},
   "outputs": [
    {
     "name": "stderr",
     "output_type": "stream",
     "text": [
      "100%|██████████| 78/78 [00:25<00:00,  3.00it/s]\n"
     ]
    }
   ],
   "source": [
    "# apply the function to the testing dataset (rgb images)\n",
    "copy_images_and_masks_to_target_path(test_ids, dataset_path, target_path_rgb, 'testing', resize=True, width=width, height=height, target_channel='RGB', preprocessing=True)"
   ]
  },
  {
   "cell_type": "code",
   "execution_count": 31,
   "metadata": {},
   "outputs": [
    {
     "name": "stderr",
     "output_type": "stream",
     "text": [
      "100%|██████████| 625/625 [03:37<00:00,  2.87it/s]\n"
     ]
    }
   ],
   "source": [
    "# apply the function to the training dataset (gray images)\n",
    "copy_images_and_masks_to_target_path(train_ids, dataset_path, target_path_gray, 'training', resize=True, width=width, height=height, target_channel='GRAY', preprocessing=True)"
   ]
  },
  {
   "cell_type": "code",
   "execution_count": 32,
   "metadata": {},
   "outputs": [
    {
     "name": "stderr",
     "output_type": "stream",
     "text": [
      "100%|██████████| 78/78 [00:11<00:00,  6.54it/s]\n"
     ]
    }
   ],
   "source": [
    "# apply the function to the validation dataset (gray images)\n",
    "copy_images_and_masks_to_target_path(val_ids, dataset_path, target_path_gray, 'validation', resize=True, width=width, height=height, target_channel='GRAY', preprocessing=True)"
   ]
  },
  {
   "cell_type": "code",
   "execution_count": 33,
   "metadata": {},
   "outputs": [
    {
     "name": "stderr",
     "output_type": "stream",
     "text": [
      "100%|██████████| 78/78 [00:11<00:00,  6.59it/s]\n"
     ]
    }
   ],
   "source": [
    "# apply the function to the testing dataset (gray images)\n",
    "copy_images_and_masks_to_target_path(test_ids, dataset_path, target_path_gray, 'testing', resize=True, width=width, height=height, target_channel='GRAY', preprocessing=True)"
   ]
  }
 ],
 "metadata": {
  "kernelspec": {
   "display_name": "Python 3",
   "language": "python",
   "name": "python3"
  },
  "language_info": {
   "codemirror_mode": {
    "name": "ipython",
    "version": 3
   },
   "file_extension": ".py",
   "mimetype": "text/x-python",
   "name": "python",
   "nbconvert_exporter": "python",
   "pygments_lexer": "ipython3",
   "version": "3.12.2"
  }
 },
 "nbformat": 4,
 "nbformat_minor": 2
}
